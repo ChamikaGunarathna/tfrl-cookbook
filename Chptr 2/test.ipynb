{
 "cells": [
  {
   "cell_type": "code",
   "execution_count": 1,
   "id": "e6b677cb",
   "metadata": {},
   "outputs": [],
   "source": [
    "d = {'key1': 1, 'key2': 2, 'key3': 3}"
   ]
  },
  {
   "cell_type": "code",
   "execution_count": 2,
   "id": "f44f1246",
   "metadata": {},
   "outputs": [],
   "source": [
    "index_= dict((val, key) for key, val in d.items())"
   ]
  },
  {
   "cell_type": "code",
   "execution_count": 4,
   "id": "f811fb20",
   "metadata": {},
   "outputs": [
    {
     "name": "stdout",
     "output_type": "stream",
     "text": [
      "{1: 'key1', 2: 'key2', 3: 'key3'}\n"
     ]
    }
   ],
   "source": [
    "print(index_)"
   ]
  },
  {
   "cell_type": "code",
   "execution_count": 6,
   "id": "071804d9",
   "metadata": {},
   "outputs": [
    {
     "name": "stdout",
     "output_type": "stream",
     "text": [
      "dict_keys(['key1', 'key2', 'key3'])\n"
     ]
    }
   ],
   "source": [
    "print(d.keys())"
   ]
  },
  {
   "cell_type": "code",
   "execution_count": 7,
   "id": "24397e5f",
   "metadata": {},
   "outputs": [
    {
     "name": "stdout",
     "output_type": "stream",
     "text": [
      "dict_keys([1, 2, 3])\n"
     ]
    }
   ],
   "source": [
    "print(index_.keys())"
   ]
  },
  {
   "cell_type": "code",
   "execution_count": 9,
   "id": "03bb0e98",
   "metadata": {},
   "outputs": [
    {
     "name": "stdout",
     "output_type": "stream",
     "text": [
      "dict_values([1, 2, 3])\n"
     ]
    }
   ],
   "source": [
    "print(d.values())"
   ]
  },
  {
   "cell_type": "code",
   "execution_count": 10,
   "id": "4f51be5d",
   "metadata": {},
   "outputs": [
    {
     "name": "stdout",
     "output_type": "stream",
     "text": [
      "dict_values(['key1', 'key2', 'key3'])\n"
     ]
    }
   ],
   "source": [
    "print(index_.values())"
   ]
  },
  {
   "cell_type": "code",
   "execution_count": 19,
   "id": "ac0773dd",
   "metadata": {},
   "outputs": [],
   "source": [
    "import numpy as np\n",
    "import gym"
   ]
  },
  {
   "cell_type": "code",
   "execution_count": 16,
   "id": "313f86fe",
   "metadata": {},
   "outputs": [
    {
     "data": {
      "text/plain": [
       "7"
      ]
     },
     "execution_count": 16,
     "metadata": {},
     "output_type": "execute_result"
    }
   ],
   "source": [
    "np.inner((1,1,1),[1,2,3])+1"
   ]
  },
  {
   "cell_type": "code",
   "execution_count": 8,
   "id": "774ad6d0",
   "metadata": {},
   "outputs": [
    {
     "data": {
      "text/plain": [
       "1"
      ]
     },
     "execution_count": 8,
     "metadata": {},
     "output_type": "execute_result"
    }
   ],
   "source": [
    "sum([0,0,1])"
   ]
  },
  {
   "cell_type": "code",
   "execution_count": 19,
   "id": "4e9d0fa5",
   "metadata": {},
   "outputs": [
    {
     "data": {
      "text/plain": [
       "array([0., 0., 0., 0., 0., 0., 0., 0., 0., 0., 0., 0., 0., 0., 0., 0., 0.,\n",
       "       0., 0., 0., 0., 0., 0., 0., 0., 0., 0., 0., 0., 0., 0., 0., 0., 0.,\n",
       "       0., 0., 0., 0., 0., 0., 0., 0., 0., 0., 0., 0., 0., 0., 0., 0., 0.,\n",
       "       0., 0., 0., 0., 0., 0., 0., 0., 0., 0., 0., 0., 0., 0., 0., 0., 0.,\n",
       "       0., 0., 0., 0., 0., 0., 0., 0., 0., 0., 0., 0., 0., 0., 0., 0., 0.,\n",
       "       0., 0., 0., 0., 0., 0., 0., 0., 0., 0., 0., 0., 0., 0., 0., 0., 0.,\n",
       "       0., 0., 0., 0., 0., 0., 0., 0., 0., 0.])"
      ]
     },
     "execution_count": 19,
     "metadata": {},
     "output_type": "execute_result"
    }
   ],
   "source": [
    "np.zeros(112)"
   ]
  },
  {
   "cell_type": "code",
   "execution_count": 22,
   "id": "7ed71634",
   "metadata": {},
   "outputs": [],
   "source": [
    "action_space = gym.spaces.Discrete(4)"
   ]
  },
  {
   "cell_type": "code",
   "execution_count": 23,
   "id": "ea5c469e",
   "metadata": {},
   "outputs": [
    {
     "data": {
      "text/plain": [
       "Discrete(4)"
      ]
     },
     "execution_count": 23,
     "metadata": {},
     "output_type": "execute_result"
    }
   ],
   "source": [
    "print(action_space"
   ]
  },
  {
   "cell_type": "code",
   "execution_count": 51,
   "id": "3211b1a0",
   "metadata": {},
   "outputs": [],
   "source": [
    "state = 0\n",
    "reward = 0\n",
    "trajectory =[]\n",
    "\n",
    "for i in range(3):\n",
    "    for j in range(4):\n",
    "        state = i+1\n",
    "        reward = j+1\n",
    "        trajectory.append((state,reward))\n",
    "        "
   ]
  },
  {
   "cell_type": "code",
   "execution_count": 52,
   "id": "f68a0abc",
   "metadata": {},
   "outputs": [
    {
     "data": {
      "text/plain": [
       "[(1, 1),\n",
       " (1, 2),\n",
       " (1, 3),\n",
       " (1, 4),\n",
       " (2, 1),\n",
       " (2, 2),\n",
       " (2, 3),\n",
       " (2, 4),\n",
       " (3, 1),\n",
       " (3, 2),\n",
       " (3, 3),\n",
       " (3, 4)]"
      ]
     },
     "execution_count": 52,
     "metadata": {},
     "output_type": "execute_result"
    }
   ],
   "source": [
    "trajectory"
   ]
  },
  {
   "cell_type": "code",
   "execution_count": 15,
   "id": "59bf85b9",
   "metadata": {},
   "outputs": [
    {
     "data": {
      "text/plain": [
       "[(3, 4),\n",
       " (3, 3),\n",
       " (3, 2),\n",
       " (3, 1),\n",
       " (2, 4),\n",
       " (2, 3),\n",
       " (2, 2),\n",
       " (2, 1),\n",
       " (1, 4),\n",
       " (1, 3),\n",
       " (1, 2),\n",
       " (1, 1)]"
      ]
     },
     "execution_count": 15,
     "metadata": {},
     "output_type": "execute_result"
    }
   ],
   "source": [
    "trajectory[::-1]"
   ]
  },
  {
   "cell_type": "code",
   "execution_count": 17,
   "id": "7ab1837b",
   "metadata": {},
   "outputs": [
    {
     "name": "stdout",
     "output_type": "stream",
     "text": [
      "idx : 0 , state : 3 , reward : 4\n",
      "idx : 1 , state : 3 , reward : 3\n",
      "idx : 2 , state : 3 , reward : 2\n",
      "idx : 3 , state : 3 , reward : 1\n",
      "idx : 4 , state : 2 , reward : 4\n",
      "idx : 5 , state : 2 , reward : 3\n",
      "idx : 6 , state : 2 , reward : 2\n",
      "idx : 7 , state : 2 , reward : 1\n",
      "idx : 8 , state : 1 , reward : 4\n",
      "idx : 9 , state : 1 , reward : 3\n",
      "idx : 10 , state : 1 , reward : 2\n",
      "idx : 11 , state : 1 , reward : 1\n"
     ]
    }
   ],
   "source": [
    "for idx,(state,reward) in enumerate(trajectory[::-1]):\n",
    "    print(f\"idx : {idx} , state : {state} , reward : {reward}\")"
   ]
  },
  {
   "cell_type": "code",
   "execution_count": 24,
   "id": "b07f4078",
   "metadata": {},
   "outputs": [
    {
     "data": {
      "text/plain": [
       "3"
      ]
     },
     "execution_count": 24,
     "metadata": {},
     "output_type": "execute_result"
    }
   ],
   "source": [
    "np.array(trajectory[::-1])[:,0][1]"
   ]
  },
  {
   "cell_type": "code",
   "execution_count": 26,
   "id": "f49453dc",
   "metadata": {},
   "outputs": [],
   "source": [
    "distinct_states = [str(i) for i in range(12)]"
   ]
  },
  {
   "cell_type": "code",
   "execution_count": 27,
   "id": "6acb0289",
   "metadata": {},
   "outputs": [],
   "source": [
    "returns = {state: [] for state in distinct_states}"
   ]
  },
  {
   "cell_type": "code",
   "execution_count": 28,
   "id": "a66c760c",
   "metadata": {},
   "outputs": [
    {
     "data": {
      "text/plain": [
       "{'0': [],\n",
       " '1': [],\n",
       " '2': [],\n",
       " '3': [],\n",
       " '4': [],\n",
       " '5': [],\n",
       " '6': [],\n",
       " '7': [],\n",
       " '8': [],\n",
       " '9': [],\n",
       " '10': [],\n",
       " '11': []}"
      ]
     },
     "execution_count": 28,
     "metadata": {},
     "output_type": "execute_result"
    }
   ],
   "source": [
    "returns"
   ]
  },
  {
   "cell_type": "code",
   "execution_count": 29,
   "id": "c0d89113",
   "metadata": {},
   "outputs": [],
   "source": [
    "grid_state_action_values = np.zeros((12, 4))\n",
    "grid_state_action_values[3] = 1\n",
    "grid_state_action_values[7] = -1"
   ]
  },
  {
   "cell_type": "code",
   "execution_count": 30,
   "id": "95e06a9a",
   "metadata": {},
   "outputs": [
    {
     "data": {
      "text/plain": [
       "array([[ 0.,  0.,  0.,  0.],\n",
       "       [ 0.,  0.,  0.,  0.],\n",
       "       [ 0.,  0.,  0.,  0.],\n",
       "       [ 1.,  1.,  1.,  1.],\n",
       "       [ 0.,  0.,  0.,  0.],\n",
       "       [ 0.,  0.,  0.,  0.],\n",
       "       [ 0.,  0.,  0.,  0.],\n",
       "       [-1., -1., -1., -1.],\n",
       "       [ 0.,  0.,  0.,  0.],\n",
       "       [ 0.,  0.,  0.,  0.],\n",
       "       [ 0.,  0.,  0.,  0.],\n",
       "       [ 0.,  0.,  0.,  0.]])"
      ]
     },
     "execution_count": 30,
     "metadata": {},
     "output_type": "execute_result"
    }
   ],
   "source": [
    "grid_state_action_values"
   ]
  },
  {
   "cell_type": "code",
   "execution_count": 32,
   "id": "9d87a4fd",
   "metadata": {},
   "outputs": [],
   "source": [
    "possible_states = [\"0\", \"1\", \"2\", \"3\", \"4\", \"5\", \"6\", \"7\", \"8\", \"9\", \"10\", \"11\"]\n",
    "possible_actions = [\"0\", \"1\", \"2\", \"3\"]\n",
    "returns = {}\n",
    "for state in possible_states:\n",
    "    for action in possible_actions:\n",
    "        returns[state + \", \" + action] = []"
   ]
  },
  {
   "cell_type": "code",
   "execution_count": 33,
   "id": "57139725",
   "metadata": {},
   "outputs": [
    {
     "data": {
      "text/plain": [
       "{'0, 0': [],\n",
       " '0, 1': [],\n",
       " '0, 2': [],\n",
       " '0, 3': [],\n",
       " '1, 0': [],\n",
       " '1, 1': [],\n",
       " '1, 2': [],\n",
       " '1, 3': [],\n",
       " '2, 0': [],\n",
       " '2, 1': [],\n",
       " '2, 2': [],\n",
       " '2, 3': [],\n",
       " '3, 0': [],\n",
       " '3, 1': [],\n",
       " '3, 2': [],\n",
       " '3, 3': [],\n",
       " '4, 0': [],\n",
       " '4, 1': [],\n",
       " '4, 2': [],\n",
       " '4, 3': [],\n",
       " '5, 0': [],\n",
       " '5, 1': [],\n",
       " '5, 2': [],\n",
       " '5, 3': [],\n",
       " '6, 0': [],\n",
       " '6, 1': [],\n",
       " '6, 2': [],\n",
       " '6, 3': [],\n",
       " '7, 0': [],\n",
       " '7, 1': [],\n",
       " '7, 2': [],\n",
       " '7, 3': [],\n",
       " '8, 0': [],\n",
       " '8, 1': [],\n",
       " '8, 2': [],\n",
       " '8, 3': [],\n",
       " '9, 0': [],\n",
       " '9, 1': [],\n",
       " '9, 2': [],\n",
       " '9, 3': [],\n",
       " '10, 0': [],\n",
       " '10, 1': [],\n",
       " '10, 2': [],\n",
       " '10, 3': [],\n",
       " '11, 0': [],\n",
       " '11, 1': [],\n",
       " '11, 2': [],\n",
       " '11, 3': []}"
      ]
     },
     "execution_count": 33,
     "metadata": {},
     "output_type": "execute_result"
    }
   ],
   "source": [
    "returns"
   ]
  },
  {
   "cell_type": "code",
   "execution_count": 36,
   "id": "a33b29f5",
   "metadata": {},
   "outputs": [
    {
     "data": {
      "text/plain": [
       "array([[0., 0., 0., 0.],\n",
       "       [0., 0., 0., 0.],\n",
       "       [0., 0., 0., 0.],\n",
       "       [0., 0., 0., 0.],\n",
       "       [0., 0., 0., 0.],\n",
       "       [0., 0., 0., 0.],\n",
       "       [0., 0., 0., 0.],\n",
       "       [0., 0., 0., 0.],\n",
       "       [0., 0., 0., 0.],\n",
       "       [0., 0., 0., 0.],\n",
       "       [0., 0., 0., 0.],\n",
       "       [0., 0., 0., 0.]])"
      ]
     },
     "execution_count": 36,
     "metadata": {},
     "output_type": "execute_result"
    }
   ],
   "source": [
    "grid_state_action_values = np.zeros((12, 4))\n",
    "grid_state_action_values"
   ]
  },
  {
   "cell_type": "code",
   "execution_count": 35,
   "id": "cd87122d",
   "metadata": {},
   "outputs": [
    {
     "data": {
      "text/plain": [
       "array([[0., 0., 0., 0., 0., 0., 0., 0., 0., 0., 0., 0.],\n",
       "       [0., 0., 0., 0., 0., 0., 0., 0., 0., 0., 0., 0.],\n",
       "       [0., 0., 0., 0., 0., 0., 0., 0., 0., 0., 0., 0.],\n",
       "       [0., 0., 0., 0., 0., 0., 0., 0., 0., 0., 0., 0.]])"
      ]
     },
     "execution_count": 35,
     "metadata": {},
     "output_type": "execute_result"
    }
   ],
   "source": [
    "grid_state_action_values = np.zeros((4, 12))\n",
    "grid_state_action_values"
   ]
  },
  {
   "cell_type": "code",
   "execution_count": 37,
   "id": "8413d7a1",
   "metadata": {},
   "outputs": [
    {
     "data": {
      "text/plain": [
       "array([0., 0., 0., 0.])"
      ]
     },
     "execution_count": 37,
     "metadata": {},
     "output_type": "execute_result"
    }
   ],
   "source": [
    "grid_state_action_values[2]"
   ]
  },
  {
   "cell_type": "code",
   "execution_count": 50,
   "id": "b0d3d4c4",
   "metadata": {},
   "outputs": [
    {
     "ename": "ValueError",
     "evalue": "probabilities do not sum to 1",
     "output_type": "error",
     "traceback": [
      "\u001b[1;31m---------------------------------------------------------------------------\u001b[0m",
      "\u001b[1;31mValueError\u001b[0m                                Traceback (most recent call last)",
      "Cell \u001b[1;32mIn[50], line 1\u001b[0m\n\u001b[1;32m----> 1\u001b[0m action \u001b[38;5;241m=\u001b[39m \u001b[43mnp\u001b[49m\u001b[38;5;241;43m.\u001b[39;49m\u001b[43mrandom\u001b[49m\u001b[38;5;241;43m.\u001b[39;49m\u001b[43mchoice\u001b[49m\u001b[43m(\u001b[49m\u001b[43mnp\u001b[49m\u001b[38;5;241;43m.\u001b[39;49m\u001b[43marange\u001b[49m\u001b[43m(\u001b[49m\u001b[38;5;241;43m4\u001b[39;49m\u001b[43m)\u001b[49m\u001b[43m,\u001b[49m\u001b[43m \u001b[49m\u001b[43mp\u001b[49m\u001b[38;5;241;43m=\u001b[39;49m\u001b[43m(\u001b[49m\u001b[38;5;241;43m0.5\u001b[39;49m\u001b[43m,\u001b[49m\u001b[38;5;241;43m0.2\u001b[39;49m\u001b[43m,\u001b[49m\u001b[38;5;241;43m0.1\u001b[39;49m\u001b[43m,\u001b[49m\u001b[38;5;241;43m0.1\u001b[39;49m\u001b[43m)\u001b[49m\u001b[43m)\u001b[49m\n\u001b[0;32m      2\u001b[0m action\n",
      "File \u001b[1;32mmtrand.pyx:939\u001b[0m, in \u001b[0;36mnumpy.random.mtrand.RandomState.choice\u001b[1;34m()\u001b[0m\n",
      "\u001b[1;31mValueError\u001b[0m: probabilities do not sum to 1"
     ]
    }
   ],
   "source": [
    "action = np.random.choice(np.arange(4), p=(0.5,0.2,0.1,0.1))\n",
    "action"
   ]
  },
  {
   "cell_type": "code",
   "execution_count": 54,
   "id": "322c1fb0",
   "metadata": {},
   "outputs": [
    {
     "name": "stdout",
     "output_type": "stream",
     "text": [
      "(3, 4)\n",
      "(3, 3)\n",
      "(3, 2)\n",
      "(3, 1)\n",
      "(2, 4)\n",
      "(2, 3)\n",
      "(2, 2)\n",
      "(2, 1)\n",
      "(1, 4)\n",
      "(1, 3)\n",
      "(1, 2)\n",
      "(1, 1)\n"
     ]
    }
   ],
   "source": [
    "for step in reversed(trajectory):\n",
    "    print(step)"
   ]
  },
  {
   "cell_type": "code",
   "execution_count": 55,
   "id": "e495b138",
   "metadata": {},
   "outputs": [
    {
     "data": {
      "text/plain": [
       "[(1, 1),\n",
       " (1, 2),\n",
       " (1, 3),\n",
       " (1, 4),\n",
       " (2, 1),\n",
       " (2, 2),\n",
       " (2, 3),\n",
       " (2, 4),\n",
       " (3, 1),\n",
       " (3, 2),\n",
       " (3, 3),\n",
       " (3, 4)]"
      ]
     },
     "execution_count": 55,
     "metadata": {},
     "output_type": "execute_result"
    }
   ],
   "source": [
    "trajectory"
   ]
  },
  {
   "cell_type": "code",
   "execution_count": null,
   "id": "8f066229",
   "metadata": {},
   "outputs": [],
   "source": []
  }
 ],
 "metadata": {
  "kernelspec": {
   "display_name": "Python 3 (ipykernel)",
   "language": "python",
   "name": "python3"
  },
  "language_info": {
   "codemirror_mode": {
    "name": "ipython",
    "version": 3
   },
   "file_extension": ".py",
   "mimetype": "text/x-python",
   "name": "python",
   "nbconvert_exporter": "python",
   "pygments_lexer": "ipython3",
   "version": "3.11.3"
  }
 },
 "nbformat": 4,
 "nbformat_minor": 5
}
