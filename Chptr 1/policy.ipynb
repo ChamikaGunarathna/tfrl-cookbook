{
 "cells": [
  {
   "cell_type": "code",
   "execution_count": 14,
   "id": "99aa46d6",
   "metadata": {},
   "outputs": [],
   "source": [
    "import seaborn as sns\n",
    "import tensorflow as tf\n",
    "from tensorflow import keras\n",
    "from tensorflow.keras import layers\n",
    "import tensorflow_probability as tfp\n",
    "import numpy as np"
   ]
  },
  {
   "cell_type": "code",
   "execution_count": 15,
   "id": "b57a7df7",
   "metadata": {},
   "outputs": [
    {
     "name": "stdout",
     "output_type": "stream",
     "text": [
      "Action:  tf.Tensor([0], shape=(1,), dtype=int32)\n",
      "Action:  tf.Tensor([1], shape=(1,), dtype=int32)\n",
      "Action:  tf.Tensor([1], shape=(1,), dtype=int32)\n",
      "Action:  tf.Tensor([0], shape=(1,), dtype=int32)\n",
      "Action:  tf.Tensor([0], shape=(1,), dtype=int32)\n"
     ]
    }
   ],
   "source": [
    "binary_policy = tfp.distributions.Bernoulli(probs=0.5)\n",
    "for i in range(5):\n",
    "    action = binary_policy.sample(1)\n",
    "    print(\"Action: \",action)"
   ]
  },
  {
   "cell_type": "code",
   "execution_count": 16,
   "id": "e508b949",
   "metadata": {},
   "outputs": [
    {
     "data": {
      "text/plain": [
       "<seaborn.axisgrid.FacetGrid at 0x23ae4094750>"
      ]
     },
     "execution_count": 16,
     "metadata": {},
     "output_type": "execute_result"
    },
    {
     "data": {
      "image/png": "[encoded data removed]",
      "text/plain": [
       "<Figure size 500x500 with 1 Axes>"
      ]
     },
     "metadata": {},
     "output_type": "display_data"
    }
   ],
   "source": [
    "# Sample 500 actions from the binary policy distribution\n",
    "sample_actions = binary_policy.sample(500)\n",
    "sns.displot(sample_actions)"
   ]
  },
  {
   "cell_type": "code",
   "execution_count": 17,
   "id": "1f242e6c",
   "metadata": {},
   "outputs": [
    {
     "name": "stdout",
     "output_type": "stream",
     "text": [
      "tf.Tensor([[0. 1. 0. 0.]], shape=(1, 4), dtype=float32)\n",
      "tf.Tensor([[1. 0. 0. 0.]], shape=(1, 4), dtype=float32)\n",
      "tf.Tensor([[1. 0. 0. 0.]], shape=(1, 4), dtype=float32)\n",
      "tf.Tensor([[1. 0. 0. 0.]], shape=(1, 4), dtype=float32)\n",
      "tf.Tensor([[1. 0. 0. 0.]], shape=(1, 4), dtype=float32)\n"
     ]
    }
   ],
   "source": [
    "action_dim = 4 # Dimension of the discrete action space\n",
    "action_probabilities = [0.7, 0.1, 0.1, 0.1]\n",
    "discrete_policy = tfp.distributions.Multinomial(probs=action_probabilities, total_count=1)\n",
    "for i in range(5):\n",
    "    action = discrete_policy.sample(1)\n",
    "    print(action)"
   ]
  },
  {
   "cell_type": "code",
   "execution_count": 18,
   "id": "36db811a",
   "metadata": {},
   "outputs": [
    {
     "data": {
      "text/plain": [
       "<Axes: ylabel='Count'>"
      ]
     },
     "execution_count": 18,
     "metadata": {},
     "output_type": "execute_result"
    },
    {
     "data": {
      "image/png": "[encoded data removed]",
      "text/plain": [
       "<Figure size 640x480 with 1 Axes>"
      ]
     },
     "metadata": {},
     "output_type": "display_data"
    }
   ],
   "source": [
    "sns.histplot(discrete_policy.sample(1))"
   ]
  },
  {
   "cell_type": "code",
   "execution_count": 19,
   "id": "18d72d49",
   "metadata": {},
   "outputs": [
    {
     "name": "stdout",
     "output_type": "stream",
     "text": [
      "tf.Tensor(1.3862944, shape=(), dtype=float32)\n"
     ]
    }
   ],
   "source": [
    "def entropy(action_probs):\n",
    "    return -tf.reduce_sum(action_probs * tf.math.log(action_probs), axis=-1)\n",
    "action_probabilities = [0.25, 0.25, 0.25, 0.25]\n",
    "print(entropy(action_probabilities))"
   ]
  },
  {
   "cell_type": "code",
   "execution_count": 20,
   "id": "80027ce9",
   "metadata": {},
   "outputs": [],
   "source": [
    "class DiscretePolicy(object):\n",
    "    def __init__(self, num_actions):\n",
    "        self.action_dim = num_actions\n",
    "    def sample(self, action_logits):\n",
    "        self.distribution = tfp.distributions.Multinomial(logits=action_logits, total_count=1)\n",
    "        return self.distribution.sample(1)\n",
    "\n",
    "    def get_action(self, action_logits):\n",
    "        action = self.sample(action_logits)\n",
    "        return np.where(action)[-1]\n",
    "    # Return the action index\n",
    "    def entropy(self, action_probabilities):\n",
    "        return -tf.reduce_sum(action_probabilities * tf.math.log(action_probabilities), axis=-1)\n",
    "    \n",
    "\n",
    "def evaluate(agent, env, render=True):\n",
    "    obs, episode_reward, done, step_num = env.reset(),0.0, False, 0\n",
    "\n",
    "    while not done:\n",
    "        action = agent.get_action(obs)\n",
    "        obs, reward, done, info = env.step(action)\n",
    "        episode_reward += reward\n",
    "        step_num += 1\n",
    "        if render:\n",
    "            env.render()\n",
    "    return step_num, episode_reward, done, info\n",
    "\n",
    "class Brain(keras.Model):\n",
    "    def __init__(self, action_dim=5,input_shape=(1, 8 * 8)):\n",
    "        \"\"\"Initialize the Agent's Brain model\n",
    "        Args:\n",
    "        action_dim (int): Number of actions\n",
    "        \"\"\"\n",
    "        super(Brain, self).__init__()\n",
    "        self.dense1 = layers.Dense(32, input_shape=input_shape, activation=\"relu\")\n",
    "        self.logits = layers.Dense(action_dim)\n",
    "    \n",
    "    def call(self, inputs):\n",
    "        x = tf.convert_to_tensor(inputs)\n",
    "        if len(x.shape) >= 2 and x.shape[0] != 1:\n",
    "            x = tf.reshape(x, (1, -1))\n",
    "        return self.logits(self.dense1(x))\n",
    "    \n",
    "    def process(self, observations):\n",
    "        # Process batch observations using `call(inputs)` behindthe-scenes\n",
    "        action_logits = self.predict_on_batch(observations)\n",
    "        return action_logits\n",
    "        \n",
    "\n",
    "class Agent(object):\n",
    "    def __init__(self, action_dim=5, input_dim=(1, 8 * 8)):\n",
    "        self.brain = Brain(action_dim, input_dim)\n",
    "        self.policy = DiscretePolicy(action_dim)\n",
    "        \n",
    "    def get_action(self, obs):\n",
    "        action_logits = self.brain.process(obs)\n",
    "        action = self.policy.get_action(np.squeeze(action_logits, 0))\n",
    "        return action"
   ]
  },
  {
   "cell_type": "code",
   "execution_count": 21,
   "id": "d5ddcaad",
   "metadata": {},
   "outputs": [
    {
     "name": "stdout",
     "output_type": "stream",
     "text": [
      "steps:2514 reward:-94.69999999999895 done:True info:{'success': True}\n"
     ]
    }
   ],
   "source": [
    "from ipynb.fs.full.GridWorldEnv import GridworldEnv\n",
    "env = GridworldEnv()\n",
    "agent = Agent(env.action_space.n,env.observation_space.shape)\n",
    "steps, reward, done, info = evaluate(agent, env)\n",
    "print(f\"steps:{steps} reward:{reward} done:{done} info:{info}\")\n",
    "env.close()"
   ]
  },
  {
   "cell_type": "code",
   "execution_count": 22,
   "id": "cd8b4c1c",
   "metadata": {},
   "outputs": [
    {
     "name": "stdout",
     "output_type": "stream",
     "text": [
      "(8, 8)\n"
     ]
    }
   ],
   "source": [
    "print(env.observation_space.shape)"
   ]
  },
  {
   "cell_type": "code",
   "execution_count": null,
   "id": "30b93493",
   "metadata": {},
   "outputs": [],
   "source": []
  }
 ],
 "metadata": {
  "kernelspec": {
   "display_name": "Python 3 (ipykernel)",
   "language": "python",
   "name": "python3"
  },
  "language_info": {
   "codemirror_mode": {
    "name": "ipython",
    "version": 3
   },
   "file_extension": ".py",
   "mimetype": "text/x-python",
   "name": "python",
   "nbconvert_exporter": "python",
   "pygments_lexer": "ipython3",
   "version": "3.11.3"
  }
 },
 "nbformat": 4,
 "nbformat_minor": 5
}
