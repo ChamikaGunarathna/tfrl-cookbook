{
 "cells": [
  {
   "cell_type": "code",
   "execution_count": 1,
   "id": "86ba9034",
   "metadata": {},
   "outputs": [],
   "source": [
    "import tensorflow_probability as tfp\n",
    "import numpy as np"
   ]
  },
  {
   "cell_type": "code",
   "execution_count": 2,
   "id": "24a8c047",
   "metadata": {},
   "outputs": [
    {
     "name": "stdout",
     "output_type": "stream",
     "text": [
      "WARNING:tensorflow:From C:\\Users\\BLACKBOX\\miniconda3\\envs\\tfrl-cookbook\\Lib\\site-packages\\tensorflow_probability\\python\\internal\\batched_rejection_sampler.py:102: calling while_loop_v2 (from tensorflow.python.ops.control_flow_ops) with back_prop=False is deprecated and will be removed in a future version.\n",
      "Instructions for updating:\n",
      "back_prop=False is deprecated. Consider using tf.stop_gradient instead.\n",
      "Instead of:\n",
      "results = tf.while_loop(c, b, vars, back_prop=False)\n",
      "Use:\n",
      "results = tf.nest.map_structure(tf.stop_gradient, tf.while_loop(c, b, vars))\n",
      "Action:  tf.Tensor([[1. 0. 0. 0. 0.]], shape=(1, 5), dtype=float32)\n",
      "Action:  tf.Tensor([[0. 0. 0. 0. 1.]], shape=(1, 5), dtype=float32)\n",
      "Action:  tf.Tensor([[0. 0. 0. 1. 0.]], shape=(1, 5), dtype=float32)\n",
      "Action:  tf.Tensor([[1. 0. 0. 0. 0.]], shape=(1, 5), dtype=float32)\n",
      "Action:  tf.Tensor([[1. 0. 0. 0. 0.]], shape=(1, 5), dtype=float32)\n"
     ]
    }
   ],
   "source": [
    "p = [.2, .2, .2, .2, .2]\n",
    "dist = tfp.distributions.Multinomial(total_count=1, probs=p)\n",
    "for i in range(5):\n",
    "    action = dist.sample(1)\n",
    "    print(\"Action: \",action)"
   ]
  },
  {
   "cell_type": "code",
   "execution_count": 3,
   "id": "e60e308b",
   "metadata": {},
   "outputs": [
    {
     "name": "stdout",
     "output_type": "stream",
     "text": [
      "Action:  tf.Tensor([[0. 1. 0.]], shape=(1, 3), dtype=float32)\n",
      "Action:  tf.Tensor([[1. 0. 0.]], shape=(1, 3), dtype=float32)\n",
      "Action:  tf.Tensor([[0. 1. 0.]], shape=(1, 3), dtype=float32)\n",
      "Action:  tf.Tensor([[0. 0. 1.]], shape=(1, 3), dtype=float32)\n",
      "Action:  tf.Tensor([[0. 1. 0.]], shape=(1, 3), dtype=float32)\n"
     ]
    }
   ],
   "source": [
    "logits = [5,5, 5]\n",
    "dist = tfp.distributions.Multinomial(total_count=1, logits=logits)\n",
    "for i in range(5):\n",
    "    action = dist.sample(1)\n",
    "    print(\"Action: \",action)"
   ]
  },
  {
   "cell_type": "code",
   "execution_count": 5,
   "id": "3f069e4c",
   "metadata": {},
   "outputs": [
    {
     "name": "stdout",
     "output_type": "stream",
     "text": [
      "tf.Tensor([[0. 1. 0.]], shape=(1, 3), dtype=float32)\n",
      "(array([0], dtype=int64), array([1], dtype=int64))\n",
      "[0]\n",
      "[1]\n"
     ]
    }
   ],
   "source": [
    "test_action = dist.sample(1)\n",
    "print(test_action)\n",
    "print(np.where(test_action))\n",
    "print(np.where(test_action)[0])\n",
    "print(np.where(test_action)[-1])"
   ]
  },
  {
   "cell_type": "code",
   "execution_count": 20,
   "id": "a729dce7",
   "metadata": {},
   "outputs": [
    {
     "name": "stdout",
     "output_type": "stream",
     "text": [
      "[1 2]\n",
      "(2,)\n",
      "1\n",
      "[[1 2]]\n",
      "(1, 2)\n",
      "2\n"
     ]
    }
   ],
   "source": [
    "arr1 = np.array([1,2])\n",
    "print(arr1)\n",
    "print(arr1.shape)\n",
    "print(arr1.ndim)\n",
    "arr1 = np.reshape(arr1,(1,2))\n",
    "print(arr1)\n",
    "print(arr1.shape)\n",
    "print(arr1.ndim)"
   ]
  },
  {
   "cell_type": "code",
   "execution_count": null,
   "id": "d08d5157",
   "metadata": {},
   "outputs": [],
   "source": []
  }
 ],
 "metadata": {
  "kernelspec": {
   "display_name": "Python 3 (ipykernel)",
   "language": "python",
   "name": "python3"
  },
  "language_info": {
   "codemirror_mode": {
    "name": "ipython",
    "version": 3
   },
   "file_extension": ".py",
   "mimetype": "text/x-python",
   "name": "python",
   "nbconvert_exporter": "python",
   "pygments_lexer": "ipython3",
   "version": "3.11.3"
  }
 },
 "nbformat": 4,
 "nbformat_minor": 5
}
