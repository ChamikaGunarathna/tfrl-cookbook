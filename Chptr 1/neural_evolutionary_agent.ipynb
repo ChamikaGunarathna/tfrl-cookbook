{
 "cells": [
  {
   "cell_type": "code",
   "execution_count": 1,
   "id": "18fc0001",
   "metadata": {},
   "outputs": [],
   "source": [
    "from collections import namedtuple\n",
    "import gym\n",
    "import matplotlib.pyplot as plt\n",
    "import numpy as np\n",
    "import tensorflow as tf\n",
    "from tensorflow import keras\n",
    "from tensorflow.keras import layers\n",
    "from tqdm import tqdm\n",
    "import envs"
   ]
  },
  {
   "cell_type": "code",
   "execution_count": 2,
   "id": "bc9e5f2d",
   "metadata": {},
   "outputs": [],
   "source": [
    "from neural_agent import Agent, Brain\n",
    "from envs.gridworld import GridworldEnv"
   ]
  },
  {
   "cell_type": "code",
   "execution_count": 3,
   "id": "b9088bfd",
   "metadata": {},
   "outputs": [],
   "source": [
    "def rollout(agent, env, render=False):\n",
    "    obs, episode_reward, done, step_num = env.reset(),0.0, False, 0\n",
    "    observations, actions = [], []\n",
    "    episode_reward = 0.0\n",
    "    while not done:\n",
    "        action = agent.get_action(obs)\n",
    "        next_obs, reward, done, info = env.step(action)\n",
    "        # Save experience\n",
    "        observations.append(np.array(obs).reshape(1, -1))\n",
    "        # Convert to numpy & reshape (8, 8) to (1, 64)\n",
    "        actions.append(action)\n",
    "        episode_reward += reward\n",
    "        obs = next_obs\n",
    "        step_num += 1\n",
    "        if render:\n",
    "            env.render()\n",
    "    env.close()\n",
    "    return observations, actions, episode_reward"
   ]
  },
  {
   "cell_type": "code",
   "execution_count": 4,
   "id": "735290c2",
   "metadata": {},
   "outputs": [],
   "source": [
    "#Testing the trajectory rollout method\n",
    "env = GridworldEnv()\n",
    "# input_shape = (env.observation_space.shape[0] *env.observation_space.shape[1], )\n",
    "brain = Brain(env.action_space.n)\n",
    "agent = Agent(env.action_space.n)\n",
    "obs_batch, actions_batch, episode_reward = rollout(agent,env)"
   ]
  },
  {
   "cell_type": "code",
   "execution_count": 5,
   "id": "6d3bb814",
   "metadata": {},
   "outputs": [],
   "source": [
    "assert len(obs_batch) == len(actions_batch)"
   ]
  },
  {
   "cell_type": "code",
   "execution_count": 6,
   "id": "bc3f7c11",
   "metadata": {},
   "outputs": [
    {
     "name": "stderr",
     "output_type": "stream",
     "text": [
      "100%|████████████████████████████████████████████████████████████████████████████████| 100/100 [01:25<00:00,  1.17it/s]\n"
     ]
    }
   ],
   "source": [
    "# Trajectory: (obs_batch, actions_batch, episode_reward)\n",
    "# Rollout 100 episodes; Maximum possible steps = 100 *100 = 10e4\n",
    "trajectories = [rollout(agent, env, render=True) for _ in tqdm(range(100))]"
   ]
  },
  {
   "cell_type": "code",
   "execution_count": 7,
   "id": "f0fe86d3",
   "metadata": {},
   "outputs": [
    {
     "data": {
      "application/vnd.jupyter.widget-view+json": {
       "model_id": "bffd4ffe239e45899ae19f7cfa5c1bd5",
       "version_major": 2,
       "version_minor": 0
      },
      "text/plain": [
       "  0%|          | 0/100 [00:00<?, ?it/s]"
      ]
     },
     "metadata": {},
     "output_type": "display_data"
    },
    {
     "data": {
      "image/png": "[encoded data removed]",
      "text/plain": [
       "<Figure size 640x480 with 1 Axes>"
      ]
     },
     "metadata": {},
     "output_type": "display_data"
    }
   ],
   "source": [
    "#Visualizing the reward distribution from a sample of experience data\n",
    "from tqdm.auto import tqdm\n",
    "import matplotlib.pyplot as plt\n",
    "%matplotlib inline\n",
    "sample_ep_rewards = [rollout(agent, env)[-1] for _ in tqdm(range(100))]\n",
    "plt.hist(sample_ep_rewards, bins=10, histtype=\"bar\");"
   ]
  },
  {
   "cell_type": "code",
   "execution_count": 9,
   "id": "02a400cb",
   "metadata": {},
   "outputs": [
    {
     "name": "stdout",
     "output_type": "stream",
     "text": [
      "Trajectory(obs=1, actions=2, reward=3)\n"
     ]
    }
   ],
   "source": [
    "#create a container for storing trajectories\n",
    "from collections import namedtuple\n",
    "Trajectory = namedtuple(\"Trajectory\", [\"obs\", \"actions\",\"reward\"])\n",
    "# Example for understanding the operations:\n",
    "print(Trajectory(*(1, 2, 3)))\n",
    "# Explanation: `*` unpacks the tuples into individual\n",
    "# values\n",
    "Trajectory(*(1, 2, 3)) == Trajectory(1, 2, 3)\n",
    "# The rollout(...) function returns a tuple of 3 values:\n",
    "# (obs, actions, rewards)\n",
    "# The Trajectory namedtuple can be used to collect\n",
    "# and store mini batch of experience to train the neuro\n",
    "# evolution agent\n",
    "trajectories = [Trajectory(*rollout(agent, env)) for _ in range(2)]"
   ]
  },
  {
   "cell_type": "code",
   "execution_count": 10,
   "id": "107a7375",
   "metadata": {},
   "outputs": [],
   "source": [
    "#Choosing elite experiences for the evolution process\n",
    "def gather_elite_xp(trajectories, elitism_criterion):\n",
    "    \"\"\"Gather elite trajectories from the batch of\n",
    "        trajectories\n",
    "    Args:\n",
    "        batch_trajectories (List): List of episode trajectories containing experiences (obs,actions,episode_reward)\n",
    "    Returns:\n",
    "        elite_batch_obs\n",
    "        elite_batch_actions\n",
    "        elite_reard_threshold\n",
    "    \"\"\"\n",
    "    batch_obs, batch_actions,batch_rewards = zip(*trajectories)\n",
    "    reward_threshold = np.percentile(batch_rewards,elitism_criterion)\n",
    "    indices = [index for index, value in enumerate(batch_rewards) if value >= reward_threshold]\n",
    "    elite_batch_obs = [batch_obs[i] for i in indices]\n",
    "    elite_batch_actions = [batch_actions[i] for i in indices]\n",
    "    unpacked_elite_batch_obs = [item for items in elite_batch_obs for item in items]\n",
    "    unpacked_elite_batch_actions = [item for items in elite_batch_actions for item in items]\n",
    "    return np.array(unpacked_elite_batch_obs),np.array(unpacked_elite_batch_actions),reward_threshold"
   ]
  },
  {
   "cell_type": "code",
   "execution_count": 11,
   "id": "a934a1ef",
   "metadata": {},
   "outputs": [],
   "source": [
    "#testing the elite experience gathering routine\n",
    "elite_obs, elite_actions, reward_threshold = gather_elite_xp(trajectories, elitism_criterion=75)"
   ]
  },
  {
   "cell_type": "code",
   "execution_count": 12,
   "id": "050f1f8a",
   "metadata": {},
   "outputs": [],
   "source": [
    "#implementing a helper method to convert discrete action indices to one-hot encoded vectors or probability distribution over actions\n",
    "def gen_action_distribution(action_index, action_dim=5):\n",
    "    action_distribution = np.zeros(action_dim).astype(type(action_index))\n",
    "    action_distribution[action_index] = 1\n",
    "    action_distribution = np.expand_dims(action_distribution, 0)\n",
    "    return action_distribution"
   ]
  },
  {
   "cell_type": "code",
   "execution_count": 13,
   "id": "92589cd2",
   "metadata": {},
   "outputs": [],
   "source": [
    "#testing the action distribution generation function\n",
    "elite_action_distributions = np.array([gen_action_distribution(a.item()) for a in elite_actions])"
   ]
  },
  {
   "cell_type": "code",
   "execution_count": 14,
   "id": "bd75ec5d",
   "metadata": {},
   "outputs": [],
   "source": [
    "#creating and compile the neural network brain with TensorFlow 2.x using the Keras functional API:\n",
    "brain = Brain(env.action_space.n)\n",
    "brain.compile(loss=\"categorical_crossentropy\",optimizer=\"adam\", metrics=[\"accuracy\"])"
   ]
  },
  {
   "cell_type": "code",
   "execution_count": 15,
   "id": "b738b744",
   "metadata": {},
   "outputs": [
    {
     "name": "stdout",
     "output_type": "stream",
     "text": [
      "1/1 [==============================] - 0s 287ms/step - loss: 1.4506 - accuracy: 0.0200\n"
     ]
    }
   ],
   "source": [
    "#testing the brain training loop\n",
    "elite_obs, elite_action_distributions = elite_obs.astype(\"float16\"), elite_action_distributions.astype(\"float16\")\n",
    "brain.fit(elite_obs, elite_action_distributions, batch_size=128, epochs=1);"
   ]
  },
  {
   "cell_type": "code",
   "execution_count": 16,
   "id": "65323935",
   "metadata": {},
   "outputs": [],
   "source": [
    "class Agent(object):\n",
    "    def __init__(self, brain):\n",
    "        \"\"\"Agent with a neural-network brain powered policy\n",
    "        Args:\n",
    "            brain (keras.Model): Neural Network based model\n",
    "        \"\"\"\n",
    "        self.brain = brain\n",
    "        self.policy = self.policy_mlp\n",
    "        \n",
    "    def policy_mlp(self, observations):\n",
    "        observations = observations.reshape(1, -1)\n",
    "        action_logits = self.brain.process(observations)\n",
    "        action = tf.random.categorical(tf.math.log(action_logits), num_samples=1)\n",
    "        return tf.squeeze(action, axis=1)\n",
    "    \n",
    "    def get_action(self, observations):\n",
    "        return self.policy(observations)"
   ]
  },
  {
   "cell_type": "code",
   "execution_count": 17,
   "id": "ef9a2055",
   "metadata": {},
   "outputs": [],
   "source": [
    "def evaluate(agent, env, render=True):\n",
    "    obs, episode_reward, done, step_num = env.reset(),0.0, False, 0\n",
    "    while not done:\n",
    "        action = agent.get_action(obs)\n",
    "        obs, reward, done, info = env.step(action)\n",
    "        episode_reward += reward\n",
    "        step_num += 1\n",
    "        if render:\n",
    "            env.render()\n",
    "    return step_num, episode_reward, done, info"
   ]
  },
  {
   "cell_type": "code",
   "execution_count": 18,
   "id": "d207dbc6",
   "metadata": {},
   "outputs": [
    {
     "data": {
      "application/vnd.jupyter.widget-view+json": {
       "model_id": "72cd912bd6d14d318f9ca8e2ef297614",
       "version_major": 2,
       "version_minor": 0
      },
      "text/plain": [
       "  0%|          | 0/10 [00:00<?, ?it/s]"
      ]
     },
     "metadata": {},
     "output_type": "display_data"
    }
   ],
   "source": [
    "env = GridworldEnv()\n",
    "agent = Agent(brain)\n",
    "for episode in tqdm(range(10)):\n",
    "    steps, episode_reward, done, info = evaluate(agent,env)\n",
    "env.close()"
   ]
  },
  {
   "cell_type": "code",
   "execution_count": 19,
   "id": "a3715ec0",
   "metadata": {},
   "outputs": [],
   "source": [
    "#defining parameters fpr the training loop\n",
    "total_trajectory_rollouts = 70\n",
    "elitism_criterion = 70 # percentile\n",
    "num_epochs = 200\n",
    "mean_rewards = []\n",
    "elite_reward_thresholds = []"
   ]
  },
  {
   "cell_type": "code",
   "execution_count": 20,
   "id": "33688eb0",
   "metadata": {},
   "outputs": [
    {
     "data": {
      "application/vnd.jupyter.widget-view+json": {
       "model_id": "0870e2ddb1f847959e22eee70505c1ff",
       "version_major": 2,
       "version_minor": 0
      },
      "text/plain": [
       "  0%|          | 0/200 [00:00<?, ?it/s]"
      ]
     },
     "metadata": {},
     "output_type": "display_data"
    },
    {
     "name": "stdout",
     "output_type": "stream",
     "text": [
      "Episode#:1 elite-reward-threshold: -8.00 reward:-8.29 \n",
      "Episode#:2 elite-reward-threshold: -8.07 reward:-8.35 \n",
      "Episode#:3 elite-reward-threshold: -8.20 reward:-8.34 \n",
      "Episode#:4 elite-reward-threshold: -8.20 reward:-8.32 \n",
      "Episode#:5 elite-reward-threshold: -8.20 reward:-8.43 \n",
      "Episode#:6 elite-reward-threshold: -8.20 reward:-8.33 \n",
      "Episode#:7 elite-reward-threshold: -8.20 reward:-8.35 \n",
      "Episode#:8 elite-reward-threshold: -8.20 reward:-8.37 \n",
      "Episode#:9 elite-reward-threshold: -7.97 reward:-8.22 \n",
      "Episode#:10 elite-reward-threshold: -8.17 reward:-8.40 \n",
      "Episode#:11 elite-reward-threshold: -8.17 reward:-8.37 \n",
      "Episode#:12 elite-reward-threshold: -8.20 reward:-8.36 \n",
      "Episode#:13 elite-reward-threshold: -8.20 reward:-8.35 \n",
      "Episode#:14 elite-reward-threshold: -8.10 reward:-8.32 \n",
      "Episode#:15 elite-reward-threshold: -8.10 reward:-8.31 \n",
      "Episode#:16 elite-reward-threshold: -8.17 reward:-8.38 \n",
      "Episode#:17 elite-reward-threshold: -8.20 reward:-8.36 \n",
      "Episode#:18 elite-reward-threshold: -8.27 reward:-8.39 \n",
      "Episode#:19 elite-reward-threshold: -8.10 reward:-8.28 \n",
      "Episode#:20 elite-reward-threshold: -8.20 reward:-8.36 \n",
      "Episode#:21 elite-reward-threshold: -8.10 reward:-8.33 \n",
      "Episode#:22 elite-reward-threshold: -8.10 reward:-8.30 \n",
      "Episode#:23 elite-reward-threshold: -8.20 reward:-8.32 \n",
      "Episode#:24 elite-reward-threshold: -8.10 reward:-8.33 \n",
      "Episode#:25 elite-reward-threshold: -8.30 reward:-8.43 \n",
      "Episode#:26 elite-reward-threshold: -8.00 reward:-8.27 \n",
      "Episode#:27 elite-reward-threshold: -8.17 reward:-8.35 \n",
      "Episode#:28 elite-reward-threshold: -8.10 reward:-8.33 \n",
      "Episode#:29 elite-reward-threshold: -8.10 reward:-8.32 \n",
      "Episode#:30 elite-reward-threshold: -8.27 reward:-8.33 \n",
      "Episode#:31 elite-reward-threshold: -8.20 reward:-8.36 \n",
      "Episode#:32 elite-reward-threshold: -8.00 reward:-8.25 \n",
      "Episode#:33 elite-reward-threshold: -8.20 reward:-8.33 \n",
      "Episode#:34 elite-reward-threshold: -8.20 reward:-8.44 \n",
      "Episode#:35 elite-reward-threshold: -8.20 reward:-8.30 \n",
      "Episode#:36 elite-reward-threshold: -8.20 reward:-8.34 \n",
      "Episode#:37 elite-reward-threshold: -8.20 reward:-8.38 \n",
      "Episode#:38 elite-reward-threshold: -8.20 reward:-8.35 \n",
      "Episode#:39 elite-reward-threshold: -8.30 reward:-8.44 \n",
      "Episode#:40 elite-reward-threshold: -8.20 reward:-8.35 \n",
      "Episode#:41 elite-reward-threshold: -8.20 reward:-8.38 \n",
      "Episode#:42 elite-reward-threshold: -8.10 reward:-8.33 \n",
      "Episode#:43 elite-reward-threshold: -8.20 reward:-8.35 \n",
      "Episode#:44 elite-reward-threshold: -8.10 reward:-8.32 \n",
      "Episode#:45 elite-reward-threshold: -8.20 reward:-8.42 \n",
      "Episode#:46 elite-reward-threshold: -8.10 reward:-8.28 \n",
      "Episode#:47 elite-reward-threshold: -8.10 reward:-8.34 \n",
      "Episode#:48 elite-reward-threshold: -8.10 reward:-8.35 \n",
      "Episode#:49 elite-reward-threshold: -8.30 reward:-8.41 \n",
      "Episode#:50 elite-reward-threshold: -8.20 reward:-8.32 \n",
      "Episode#:51 elite-reward-threshold: -8.10 reward:-8.31 \n",
      "Episode#:52 elite-reward-threshold: -8.20 reward:-8.35 \n",
      "Episode#:53 elite-reward-threshold: -8.20 reward:-8.36 \n",
      "Episode#:54 elite-reward-threshold: -8.00 reward:-8.24 \n",
      "Episode#:55 elite-reward-threshold: -8.10 reward:-8.29 \n",
      "Episode#:56 elite-reward-threshold: -8.10 reward:-8.39 \n",
      "Episode#:57 elite-reward-threshold: -8.20 reward:-8.37 \n",
      "Episode#:58 elite-reward-threshold: -8.00 reward:-8.31 \n",
      "Episode#:59 elite-reward-threshold: -8.20 reward:-8.39 \n",
      "Episode#:60 elite-reward-threshold: -8.20 reward:-8.35 \n",
      "Episode#:61 elite-reward-threshold: -8.20 reward:-8.38 \n",
      "Episode#:62 elite-reward-threshold: -8.10 reward:-8.33 \n",
      "Episode#:63 elite-reward-threshold: -8.10 reward:-8.30 \n",
      "Episode#:64 elite-reward-threshold: -8.10 reward:-8.31 \n",
      "Episode#:65 elite-reward-threshold: -8.10 reward:-8.32 \n",
      "Episode#:66 elite-reward-threshold: -8.10 reward:-8.30 \n",
      "Episode#:67 elite-reward-threshold: -8.20 reward:-8.32 \n",
      "Episode#:68 elite-reward-threshold: -8.10 reward:-8.26 \n",
      "Episode#:69 elite-reward-threshold: -8.10 reward:-8.33 \n",
      "Episode#:70 elite-reward-threshold: -8.20 reward:-8.34 \n",
      "Episode#:71 elite-reward-threshold: -8.10 reward:-8.38 \n",
      "Episode#:72 elite-reward-threshold: -8.20 reward:-8.30 \n",
      "Episode#:73 elite-reward-threshold: -8.20 reward:-8.35 \n",
      "Episode#:74 elite-reward-threshold: -8.10 reward:-8.34 \n",
      "Episode#:75 elite-reward-threshold: -8.10 reward:-8.32 \n",
      "Episode#:76 elite-reward-threshold: -8.27 reward:-8.40 \n",
      "Episode#:77 elite-reward-threshold: -8.10 reward:-8.31 \n",
      "Episode#:78 elite-reward-threshold: -8.20 reward:-8.38 \n",
      "Episode#:79 elite-reward-threshold: -8.10 reward:-8.34 \n",
      "Episode#:80 elite-reward-threshold: -8.20 reward:-8.42 \n",
      "Episode#:81 elite-reward-threshold: -8.20 reward:-8.36 \n",
      "Episode#:82 elite-reward-threshold: -8.30 reward:-8.41 \n",
      "Episode#:83 elite-reward-threshold: -8.20 reward:-8.40 \n",
      "Episode#:84 elite-reward-threshold: -8.10 reward:-8.32 \n",
      "Episode#:85 elite-reward-threshold: -8.20 reward:-8.39 \n",
      "Episode#:86 elite-reward-threshold: -8.20 reward:-8.36 \n",
      "Episode#:87 elite-reward-threshold: -8.20 reward:-8.35 \n",
      "Episode#:88 elite-reward-threshold: -8.07 reward:-8.21 \n",
      "Episode#:89 elite-reward-threshold: -8.20 reward:-8.35 \n",
      "Episode#:90 elite-reward-threshold: -8.10 reward:-8.32 \n",
      "Episode#:91 elite-reward-threshold: -8.20 reward:-8.38 \n",
      "Episode#:92 elite-reward-threshold: -8.10 reward:-8.31 \n",
      "Episode#:93 elite-reward-threshold: -8.17 reward:-8.31 \n",
      "Episode#:94 elite-reward-threshold: -8.20 reward:-8.36 \n",
      "Episode#:95 elite-reward-threshold: -8.10 reward:-8.33 \n",
      "Episode#:96 elite-reward-threshold: -8.17 reward:-8.37 \n",
      "Episode#:97 elite-reward-threshold: -8.20 reward:-8.33 \n",
      "Episode#:98 elite-reward-threshold: -8.20 reward:-8.40 \n",
      "Episode#:99 elite-reward-threshold: -8.20 reward:-8.33 \n",
      "Episode#:100 elite-reward-threshold: -8.20 reward:-8.31 \n",
      "Episode#:101 elite-reward-threshold: -8.30 reward:-8.41 \n",
      "Episode#:102 elite-reward-threshold: -8.30 reward:-8.37 \n",
      "Episode#:103 elite-reward-threshold: -8.10 reward:-8.29 \n",
      "Episode#:104 elite-reward-threshold: -8.10 reward:-8.31 \n",
      "Episode#:105 elite-reward-threshold: -8.10 reward:-8.34 \n",
      "Episode#:106 elite-reward-threshold: -8.20 reward:-8.38 \n",
      "Episode#:107 elite-reward-threshold: -8.10 reward:-8.36 \n",
      "Episode#:108 elite-reward-threshold: -8.20 reward:-8.34 \n",
      "Episode#:109 elite-reward-threshold: -8.10 reward:-8.37 \n",
      "Episode#:110 elite-reward-threshold: -8.20 reward:-8.39 \n",
      "Episode#:111 elite-reward-threshold: -8.20 reward:-8.37 \n",
      "Episode#:112 elite-reward-threshold: -8.20 reward:-8.32 \n",
      "Episode#:113 elite-reward-threshold: -8.17 reward:-8.35 \n",
      "Episode#:114 elite-reward-threshold: -8.10 reward:-8.29 \n",
      "Episode#:115 elite-reward-threshold: -8.20 reward:-8.44 \n",
      "Episode#:116 elite-reward-threshold: -8.20 reward:-8.33 \n",
      "Episode#:117 elite-reward-threshold: -8.10 reward:-8.33 \n",
      "Episode#:118 elite-reward-threshold: -8.07 reward:-8.32 \n",
      "Episode#:119 elite-reward-threshold: -8.17 reward:-8.37 \n",
      "Episode#:120 elite-reward-threshold: -8.17 reward:-8.32 \n",
      "Episode#:121 elite-reward-threshold: -8.20 reward:-8.37 \n",
      "Episode#:122 elite-reward-threshold: -8.20 reward:-8.37 \n",
      "Episode#:123 elite-reward-threshold: -8.10 reward:-8.36 \n",
      "Episode#:124 elite-reward-threshold: -8.20 reward:-8.36 \n",
      "Episode#:125 elite-reward-threshold: -8.10 reward:-8.34 \n",
      "Episode#:126 elite-reward-threshold: -8.07 reward:-8.30 \n",
      "Episode#:127 elite-reward-threshold: -8.17 reward:-8.32 \n",
      "Episode#:128 elite-reward-threshold: -8.10 reward:-8.32 \n",
      "Episode#:129 elite-reward-threshold: -8.07 reward:-8.26 \n",
      "Episode#:130 elite-reward-threshold: -8.20 reward:-8.39 \n",
      "Episode#:131 elite-reward-threshold: -8.20 reward:-8.33 \n",
      "Episode#:132 elite-reward-threshold: -8.20 reward:-8.37 \n",
      "Episode#:133 elite-reward-threshold: -8.20 reward:-8.32 \n",
      "Episode#:134 elite-reward-threshold: -8.10 reward:-8.26 \n",
      "Episode#:135 elite-reward-threshold: -8.20 reward:-8.33 \n",
      "Episode#:136 elite-reward-threshold: -8.10 reward:-8.25 \n",
      "Episode#:137 elite-reward-threshold: -8.20 reward:-8.30 \n",
      "Episode#:138 elite-reward-threshold: -8.20 reward:-8.37 \n",
      "Episode#:139 elite-reward-threshold: -8.10 reward:-8.33 \n",
      "Episode#:140 elite-reward-threshold: -8.20 reward:-8.40 \n",
      "Episode#:141 elite-reward-threshold: -8.20 reward:-8.36 \n",
      "Episode#:142 elite-reward-threshold: -8.20 reward:-8.38 \n",
      "Episode#:143 elite-reward-threshold: -8.10 reward:-8.27 \n",
      "Episode#:144 elite-reward-threshold: -8.20 reward:-8.40 \n",
      "Episode#:145 elite-reward-threshold: -8.17 reward:-8.39 \n",
      "Episode#:146 elite-reward-threshold: -8.17 reward:-8.32 \n"
     ]
    },
    {
     "name": "stdout",
     "output_type": "stream",
     "text": [
      "Episode#:147 elite-reward-threshold: -8.20 reward:-8.37 \n",
      "Episode#:148 elite-reward-threshold: -8.20 reward:-8.39 \n",
      "Episode#:149 elite-reward-threshold: -8.20 reward:-8.34 \n",
      "Episode#:150 elite-reward-threshold: -8.10 reward:-8.31 \n",
      "Episode#:151 elite-reward-threshold: -8.20 reward:-8.36 \n",
      "Episode#:152 elite-reward-threshold: -8.20 reward:-8.36 \n",
      "Episode#:153 elite-reward-threshold: -8.20 reward:-8.32 \n",
      "Episode#:154 elite-reward-threshold: -8.20 reward:-8.37 \n",
      "Episode#:155 elite-reward-threshold: -8.00 reward:-8.24 \n",
      "Episode#:156 elite-reward-threshold: -8.10 reward:-8.36 \n",
      "Episode#:157 elite-reward-threshold: -8.17 reward:-8.37 \n",
      "Episode#:158 elite-reward-threshold: -8.10 reward:-8.34 \n",
      "Episode#:159 elite-reward-threshold: -8.10 reward:-8.34 \n",
      "Episode#:160 elite-reward-threshold: -8.30 reward:-8.48 \n",
      "Episode#:161 elite-reward-threshold: -8.20 reward:-8.40 \n",
      "Episode#:162 elite-reward-threshold: -8.20 reward:-8.31 \n",
      "Episode#:163 elite-reward-threshold: -8.10 reward:-8.37 \n",
      "Episode#:164 elite-reward-threshold: -8.10 reward:-8.25 \n",
      "Episode#:165 elite-reward-threshold: -8.10 reward:-8.30 \n",
      "Episode#:166 elite-reward-threshold: -8.10 reward:-8.27 \n",
      "Episode#:167 elite-reward-threshold: -8.07 reward:-8.35 \n",
      "Episode#:168 elite-reward-threshold: -8.10 reward:-8.35 \n",
      "Episode#:169 elite-reward-threshold: -8.20 reward:-8.41 \n",
      "Episode#:170 elite-reward-threshold: -8.20 reward:-8.40 \n",
      "Episode#:171 elite-reward-threshold: -8.10 reward:-8.31 \n",
      "Episode#:172 elite-reward-threshold: -8.20 reward:-8.36 \n",
      "Episode#:173 elite-reward-threshold: -8.20 reward:-8.37 \n",
      "Episode#:174 elite-reward-threshold: -8.17 reward:-8.35 \n",
      "Episode#:175 elite-reward-threshold: -8.20 reward:-8.32 \n",
      "Episode#:176 elite-reward-threshold: -8.20 reward:-8.30 \n",
      "Episode#:177 elite-reward-threshold: -8.17 reward:-8.35 \n",
      "Episode#:178 elite-reward-threshold: -8.20 reward:-8.40 \n",
      "Episode#:179 elite-reward-threshold: -8.17 reward:-8.35 \n",
      "Episode#:180 elite-reward-threshold: -8.20 reward:-8.35 \n",
      "Episode#:181 elite-reward-threshold: -8.10 reward:-8.34 \n",
      "Episode#:182 elite-reward-threshold: -8.10 reward:-8.32 \n",
      "Episode#:183 elite-reward-threshold: -8.20 reward:-8.37 \n",
      "Episode#:184 elite-reward-threshold: -8.20 reward:-8.36 \n",
      "Episode#:185 elite-reward-threshold: -8.20 reward:-8.35 \n",
      "Episode#:186 elite-reward-threshold: -8.10 reward:-8.32 \n",
      "Episode#:187 elite-reward-threshold: -8.20 reward:-8.40 \n",
      "Episode#:188 elite-reward-threshold: -8.00 reward:-8.24 \n",
      "Episode#:189 elite-reward-threshold: -8.20 reward:-8.37 \n",
      "Episode#:190 elite-reward-threshold: -8.10 reward:-8.35 \n",
      "Episode#:191 elite-reward-threshold: -8.20 reward:-8.39 \n",
      "Episode#:192 elite-reward-threshold: -8.10 reward:-8.31 \n",
      "Episode#:193 elite-reward-threshold: -8.10 reward:-8.35 \n",
      "Episode#:194 elite-reward-threshold: -8.10 reward:-8.33 \n",
      "Episode#:195 elite-reward-threshold: -8.17 reward:-8.33 \n",
      "Episode#:196 elite-reward-threshold: -8.20 reward:-8.37 \n",
      "Episode#:197 elite-reward-threshold: -8.00 reward:-8.27 \n",
      "Episode#:198 elite-reward-threshold: -8.20 reward:-8.38 \n",
      "Episode#:199 elite-reward-threshold: -8.17 reward:-8.29 \n",
      "Episode#:200 elite-reward-threshold: -8.30 reward:-8.41 \n"
     ]
    },
    {
     "data": {
      "image/png": "[encoded data removed]",
      "text/plain": [
       "<Figure size 640x480 with 1 Axes>"
      ]
     },
     "metadata": {},
     "output_type": "display_data"
    }
   ],
   "source": [
    "#creating the environment,brain and agent objects\n",
    "env = GridworldEnv()\n",
    "input_shape = (env.observation_space.shape[0] *env.observation_space.shape[1], )\n",
    "brain = Brain(env.action_space.n)\n",
    "brain.compile(loss=\"categorical_crossentropy\", optimizer=\"adam\", metrics=[\"accuracy\"])\n",
    "agent = Agent(brain)\n",
    "for i in tqdm(range(num_epochs)):\n",
    "    trajectories = [Trajectory(*rollout(agent, env)) for _ in range(total_trajectory_rollouts)]\n",
    "    _, _, batch_rewards = zip(*trajectories)\n",
    "    elite_obs, elite_actions, elite_threshold = gather_elite_xp(trajectories,elitism_criterion=elitism_criterion)\n",
    "    elite_action_distributions = np.array([gen_action_distribution(a.item()) for a in elite_actions])\n",
    "    elite_obs, elite_action_distributions = elite_obs.astype(\"float16\"), elite_action_distributions.astype(\"float16\")\n",
    "    brain.fit(elite_obs, elite_action_distributions, batch_size=128, epochs=3, verbose=0);\n",
    "    mean_rewards.append(np.mean(batch_rewards))\n",
    "    elite_reward_thresholds.append(elite_threshold)\n",
    "    print(f\"Episode#:{i + 1} elite-reward-threshold: {elite_reward_thresholds[-1]:.2f} reward:{mean_rewards[-1]:.2f} \")\n",
    "\n",
    "plt.plot(mean_rewards, 'r', label=\"mean_reward\")\n",
    "plt.plot(elite_reward_thresholds, 'g', label=\"elites_reward_threshold\")\n",
    "plt.legend()\n",
    "plt.grid()\n",
    "plt.show()"
   ]
  },
  {
   "cell_type": "code",
   "execution_count": null,
   "id": "5adf2ba0",
   "metadata": {},
   "outputs": [],
   "source": []
  }
 ],
 "metadata": {
  "kernelspec": {
   "display_name": "Python 3 (ipykernel)",
   "language": "python",
   "name": "python3"
  },
  "language_info": {
   "codemirror_mode": {
    "name": "ipython",
    "version": 3
   },
   "file_extension": ".py",
   "mimetype": "text/x-python",
   "name": "python",
   "nbconvert_exporter": "python",
   "pygments_lexer": "ipython3",
   "version": "3.11.3"
  }
 },
 "nbformat": 4,
 "nbformat_minor": 5
}
