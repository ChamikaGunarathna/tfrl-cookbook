{
 "cells": [
  {
   "cell_type": "code",
   "execution_count": null,
   "id": "7daf4aec",
   "metadata": {},
   "outputs": [],
   "source": [
    "#!/usr/bin/env python\n",
    "import gym\n",
    "import sys\n",
    "def run_gym_env(argv):\n",
    "    env = gym.make(argv[1],render_mode='human') # Name of the environment \n",
    "                            # supplied as 1st argument\n",
    "    env.reset()\n",
    "    for _ in range(int(argv[2])):\n",
    "        env.render()\n",
    "        env.step(env.action_space.sample())\n",
    "    env.close()\n",
    "if __name__ == \"__main__\":\n",
    "    run_gym_env(sys.argv)"
   ]
  },
  {
   "cell_type": "code",
   "execution_count": null,
   "id": "943ff97c",
   "metadata": {},
   "outputs": [],
   "source": []
  }
 ],
 "metadata": {
  "kernelspec": {
   "display_name": "Python 3 (ipykernel)",
   "language": "python",
   "name": "python3"
  },
  "language_info": {
   "codemirror_mode": {
    "name": "ipython",
    "version": 3
   },
   "file_extension": ".py",
   "mimetype": "text/x-python",
   "name": "python",
   "nbconvert_exporter": "python",
   "pygments_lexer": "ipython3",
   "version": "3.11.3"
  }
 },
 "nbformat": 4,
 "nbformat_minor": 5
}
